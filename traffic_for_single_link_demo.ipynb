{
 "cells": [
  {
   "cell_type": "code",
   "execution_count": 1,
   "metadata": {},
   "outputs": [],
   "source": [
    "import json\n",
    "import re\n",
    "import requests\n",
    "\n",
    "he_appid = 'KymxRBvsVraBqbxy6gCt'\n",
    "he_appcode = 'LbNbmVAeiyg51Dbr2C_NOw'\n",
    "\n",
    "lat = 1.29902\n",
    "lng = 103.85878\n",
    "\n",
    "def search_rtti(search_lat, search_lng):\n",
    "    traffic_info = {}\n",
    "    pde_api_url = 'https://pde.cit.api.here.com/1/search/proximity.json?layer_ids=LINK_FC1,LINK_FC2,LINK_FC3,LINK_FC4,LINK_FC5&proximity={},{},10&key_attributes=LINK_ID,LINK_ID,LINK_ID,LINK_ID,LINK_ID&app_id={}&app_code={}'.format(\n",
    "        search_lat, search_lng, he_appid, he_appcode)\n",
    "    print('Locate link at {},{}: '.format(search_lat, search_lng) + pde_api_url)\n",
    "    pde_r = json.loads(requests.get(pde_api_url).text)\n",
    "    pde_geometries = pde_r['geometries']\n",
    "    if len(pde_geometries) > 0:\n",
    "        for geometries_i in range(len(pde_geometries)):\n",
    "            geometry = pde_geometries[geometries_i]['geometry']\n",
    "            link_id = pde_geometries[geometries_i]['attributes']['LINK_ID']\n",
    "            nums = re.findall(r'\\d+(?:\\.\\d*)?', geometry)\n",
    "            pde_lat_lng_list = []\n",
    "            for i in range(int(len(nums) / 2)):\n",
    "                pde_lat_lng_list.append([float(nums[i + 1]), float(nums[i])])\n",
    "                nums.pop(0)\n",
    "            print('Found LINK_ID:', link_id, '\\nGeometry:', geometry)\n",
    "\n",
    "        he_rtti_url = 'https://traffic.api.here.com/traffic/6.1/flow.json?prox={},{},10&responseattributes=sh&app_id={}&app_code={}'.format(\n",
    "            search_lat, search_lng, he_appid, he_appcode)\n",
    "        print('Request for RTTI : ', he_rtti_url)\n",
    "        if len(requests.get(he_rtti_url).text) > 0:\n",
    "            traffic_r = json.loads(requests.get(he_rtti_url).text)\n",
    "            traffic_link_list = []\n",
    "            if len(traffic_r['RWS']) > 0:\n",
    "                created_timestamp = traffic_r['CREATED_TIMESTAMP']\n",
    "                for rws_i in range(len(traffic_r['RWS'])):\n",
    "                    rw = traffic_r['RWS'][rws_i]['RW']\n",
    "                    table_id = traffic_r['RWS'][rws_i]['TABLE_ID']\n",
    "                    for rw_i in range(len(rw)):\n",
    "                        fis = rw[rw_i]['FIS']\n",
    "                        li = rw[rw_i]['LI']\n",
    "                        for fis_i in range(len(fis)):\n",
    "                            fi = fis[fis_i]['FI']\n",
    "                            for fi_i in range(len(fi)):\n",
    "                                cf = fi[fi_i]['CF']\n",
    "                                shp = fi[fi_i]['SHP']\n",
    "                                tmc = fi[fi_i]['TMC']\n",
    "                                for cf_i in range(len(cf)):\n",
    "                                    ty = cf[cf_i]['TY']\n",
    "                                    sp = cf[cf_i]['SP']\n",
    "                                    su = cf[cf_i]['SU']\n",
    "                                    ff = cf[cf_i]['FF']\n",
    "                                    jf = cf[cf_i]['JF']\n",
    "                                de = tmc['DE']\n",
    "                                le = tmc['LE']\n",
    "                                pc = tmc['PC']\n",
    "                                qd = tmc['QD']\n",
    "                                for shp_i in range(len(shp)):\n",
    "                                    traffic_shape_point_list = []\n",
    "                                    shape_values = shp[shp_i]['value']\n",
    "                                    for shape_value in shape_values:\n",
    "                                        shape_value_list = shape_value.split(' ')\n",
    "                                        for shape_point in shape_value_list:\n",
    "                                            if len(shape_point) > 0:\n",
    "                                                shape_point_lat = float(shape_point.split(',')[0])\n",
    "                                                shape_point_lng = float(shape_point.split(',')[1])\n",
    "                                                traffic_shape_point_list.append([shape_point_lat, shape_point_lng])\n",
    "                                    link_found = False\n",
    "                                    for pde_shape_point in pde_lat_lng_list:\n",
    "                                        if pde_shape_point not in traffic_shape_point_list:\n",
    "                                            link_found = False\n",
    "                                            break\n",
    "                                        else:\n",
    "                                            link_found = True\n",
    "                                    if link_found:\n",
    "                                        traffic_info = {'created_timestamp': created_timestamp,\n",
    "                                                        'shape': traffic_shape_point_list, 'ty': ty, 'sp': sp,\n",
    "                                                        'su': su, 'ff': ff, 'jf': jf, 'de': de, 'li': li, 'le': le,\n",
    "                                                        'pc': pc, 'qd': qd}\n",
    "\n",
    "\n",
    "        if len(traffic_info) > 0:\n",
    "            print('Successfully mapping RTTI to LINK_ID={}'.format(link_id))\n",
    "            print('RTTI: ', traffic_info)\n",
    "        else:\n",
    "            print('Failed to mapping RTTI.'.format(link_id))\n",
    "    return traffic_info\n"
   ]
  },
  {
   "cell_type": "code",
   "execution_count": 2,
   "metadata": {},
   "outputs": [
    {
     "name": "stdout",
     "output_type": "stream",
     "text": [
      "Locate link at 1.29902,103.85878: https://pde.cit.api.here.com/1/search/proximity.json?layer_ids=LINK_FC1,LINK_FC2,LINK_FC3,LINK_FC4,LINK_FC5&proximity=1.29902,103.85878,10&key_attributes=LINK_ID,LINK_ID,LINK_ID,LINK_ID,LINK_ID&app_id=KymxRBvsVraBqbxy6gCt&app_code=LbNbmVAeiyg51Dbr2C_NOw\n",
      "Found LINK_ID: 843979395 \n",
      "Geometry: MULTILINESTRING((103.85869 1.29896,103.85893 1.29921))\n",
      "Request for RTTI :  https://traffic.api.here.com/traffic/6.1/flow.json?prox=1.29902,103.85878,10&responseattributes=sh&app_id=KymxRBvsVraBqbxy6gCt&app_code=LbNbmVAeiyg51Dbr2C_NOw\n",
      "Successfully mapping RTTI to LINK_ID=843979395\n",
      "RTTI:  {'created_timestamp': '2019-03-25T04:42:02.000+0000', 'shape': [[1.29921, 103.85893], [1.29896, 103.85869]], 'ty': 'TR', 'sp': 25.36, 'su': 25.36, 'ff': 35.3, 'jf': 1.74724, 'de': 'Rochor Rd', 'li': 'A10-00192', 'le': 0.22907, 'pc': 196, 'qd': '+'}\n"
     ]
    },
    {
     "data": {
      "text/html": [
       "<div style=\"width:100%;\"><div style=\"position:relative;width:100%;height:0;padding-bottom:60%;\"><iframe src=\"data:text/html;charset=utf-8;base64,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\" style=\"position:absolute;width:100%;height:100%;left:0;top:0;border:none !important;\" allowfullscreen webkitallowfullscreen mozallowfullscreen></iframe></div></div>"
      ],
      "text/plain": [
       "<folium.folium.Map at 0x2319163d7b8>"
      ]
     },
     "execution_count": 2,
     "metadata": {},
     "output_type": "execute_result"
    }
   ],
   "source": [
    "import folium\n",
    "\n",
    "lat = 1.29902\n",
    "lng = 103.85878\n",
    "\n",
    "rtti = search_rtti(lat, lng)\n",
    "\n",
    "m = folium.Map(location=[lat, lng],\n",
    "               tiles='https://1.traffic.maps.api.here.com/maptile/2.1/traffictile/newest/normal.traffic.day/{z}/{x}/{y}/256/png?app_id=KymxRBvsVraBqbxy6gCt&app_code=LbNbmVAeiyg51Dbr2C_NOw',\n",
    "               attr='HERE')\n",
    "folium.map.Marker([lat, lng]).add_to(m)\n",
    "p = folium.vector_layers.PolyLine(rtti['shape'], popup=str(rtti))\n",
    "b = p.get_bounds()\n",
    "p.add_to(m)\n",
    "m.fit_bounds(b)\n",
    "m\n"
   ]
  },
  {
   "cell_type": "code",
   "execution_count": null,
   "metadata": {},
   "outputs": [],
   "source": []
  }
 ],
 "metadata": {
  "kernelspec": {
   "display_name": "Python 3",
   "language": "python",
   "name": "python3"
  },
  "language_info": {
   "codemirror_mode": {
    "name": "ipython",
    "version": 3
   },
   "file_extension": ".py",
   "mimetype": "text/x-python",
   "name": "python",
   "nbconvert_exporter": "python",
   "pygments_lexer": "ipython3",
   "version": "3.7.2"
  }
 },
 "nbformat": 4,
 "nbformat_minor": 2
}
